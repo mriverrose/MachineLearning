{
  "nbformat": 4,
  "nbformat_minor": 0,
  "metadata": {
    "colab": {
      "name": "MulticlassClassification_ClassifyingNewswires_ML.ipynb",
      "provenance": [],
      "collapsed_sections": []
    },
    "kernelspec": {
      "name": "python3",
      "display_name": "Python 3"
    },
    "accelerator": "GPU"
  },
  "cells": [
    {
      "cell_type": "markdown",
      "metadata": {
        "id": "Deg_6TBYSQhc"
      },
      "source": [
        "# Multiclass Classification: Newswires\n",
        "For binary classification we classified vector inputs into two mutually exclusive classes using a densely-connected neural network. \n",
        "\n",
        "Now, we classify Reuters newswires into 46 mutually exclusive topics. This will be *single-label, multiclass classification*  since each input will belong to one topic. \n",
        "\n",
        "Data set is built-in with Keras: we examine the Reuters newswires published in 1986. Each topic (of the 46) has at least 10 examples in the training set.\n",
        "\n",
        "Code based on example by Francois Chollet in *Deep Learning with Python, Second Edition*."
      ]
    },
    {
      "cell_type": "code",
      "metadata": {
        "colab": {
          "base_uri": "https://localhost:8080/"
        },
        "id": "K-Dcawse2M7h",
        "outputId": "4ba13742-8579-4ede-edd9-3c2c7728a9c3"
      },
      "source": [
        "# Only use 10,000 most frequently used words.\n",
        "from tensorflow.keras.datasets import reuters\n",
        "(trainData, trainLabels), (testData, testLabels) = reuters.load_data(num_words=10_000)"
      ],
      "execution_count": 2,
      "outputs": [
        {
          "output_type": "stream",
          "text": [
            "/usr/local/lib/python3.7/dist-packages/tensorflow/python/keras/datasets/reuters.py:148: VisibleDeprecationWarning: Creating an ndarray from ragged nested sequences (which is a list-or-tuple of lists-or-tuples-or ndarrays with different lengths or shapes) is deprecated. If you meant to do this, you must specify 'dtype=object' when creating the ndarray\n",
            "  x_train, y_train = np.array(xs[:idx]), np.array(labels[:idx])\n",
            "/usr/local/lib/python3.7/dist-packages/tensorflow/python/keras/datasets/reuters.py:149: VisibleDeprecationWarning: Creating an ndarray from ragged nested sequences (which is a list-or-tuple of lists-or-tuples-or ndarrays with different lengths or shapes) is deprecated. If you meant to do this, you must specify 'dtype=object' when creating the ndarray\n",
            "  x_test, y_test = np.array(xs[idx:]), np.array(labels[idx:])\n"
          ],
          "name": "stderr"
        }
      ]
    },
    {
      "cell_type": "code",
      "metadata": {
        "colab": {
          "base_uri": "https://localhost:8080/"
        },
        "id": "jJ2Eq1c75_DS",
        "outputId": "60239117-821a-47b4-9c5e-b13686e573d5"
      },
      "source": [
        "print(f'Length of training data: {len(trainData)}.')\n",
        "print(f'Lenth of test data: {len(testData)}.')"
      ],
      "execution_count": 3,
      "outputs": [
        {
          "output_type": "stream",
          "text": [
            "Length of training data: 8982.\n",
            "Lenth of test data: 2246.\n"
          ],
          "name": "stdout"
        }
      ]
    },
    {
      "cell_type": "code",
      "metadata": {
        "id": "B3_kJvRZ6Yw9"
      },
      "source": [
        "# Vectorize data with same code used in binary classification:\n",
        "#  (one-hot encode it)\n",
        "import numpy as np\n",
        "def vectorize_sequences(sequences, dimension=10_000):\n",
        "    results = np.zeros((len(sequences), dimension))\n",
        "    for i, sequence in enumerate(sequences):\n",
        "        results[i, sequence] = 1. # One-hot words occuring in sequence.\n",
        "    return results\n",
        "\n",
        "xTrain = vectorize_sequences(trainData)\n",
        "xTest = vectorize_sequences(testData)"
      ],
      "execution_count": 4,
      "outputs": []
    },
    {
      "cell_type": "code",
      "metadata": {
        "id": "lcpfUHA77DyT"
      },
      "source": [
        "# Vectorize (one-hot) labels with Keras:\n",
        "from tensorflow.keras.utils import to_categorical\n",
        "oneHotTrainLabels = to_categorical(trainLabels)\n",
        "oneHotTestLabels = to_categorical(testLabels)\n",
        "\n",
        "\n",
        "# Function to achieve same thing (one-hot labels):\n",
        "def one_hot(labels, dim):\n",
        "  results = np.zeros((len(labels), dim))\n",
        "  for i, label in enumerate(labels):\n",
        "    results[i, label] = 1. # One-hot (float) label in labels.\n",
        "  return results"
      ],
      "execution_count": 7,
      "outputs": []
    },
    {
      "cell_type": "markdown",
      "metadata": {
        "id": "N8xhQ5z3Vchm"
      },
      "source": [
        "## Build the model\n",
        "Dimension of output space is now 46, up from 2 in binary classification.\n",
        "\n",
        "Note using 16-dimensional space for a layer as we did in binary classification may lead to information bottleneck since we are separating 46 ways. Try 64-unit `Dense` layers.\n",
        "\n",
        "Again we want a kind of probability output, but instead of `sigmoid` activation for binary classifying, we use `softmax`, a probabilty distribution which we set to account for 46 topics. `softmax` will produce a 46D vector such that `output[i]` is probability the sample belongs to topic `i`. Each vector, since they are probabilties, sum to 1. "
      ]
    },
    {
      "cell_type": "code",
      "metadata": {
        "id": "5uW5mlRf8Q1k"
      },
      "source": [
        "# Define model:\n",
        "from tensorflow import keras\n",
        "from tensorflow.keras import layers\n",
        "\n",
        "model = keras.Sequential([\n",
        "  layers.Dense(64, activation='relu'),\n",
        "  layers.Dense(64, activation='relu'),\n",
        "  layers.Dense(46, activation='softmax') # Size output layer is 46 for 46 topics\n",
        "])"
      ],
      "execution_count": 22,
      "outputs": []
    },
    {
      "cell_type": "markdown",
      "metadata": {
        "id": "VAnsLqWnYuLx"
      },
      "source": [
        "For loss function, we use `categorical_crossentropy` (instead of `binary_crossentropy` like in binary classification) which measures the distance between two probability distributions. It will minimize distance between probabilty distribution of the output and the true distribution of the labels."
      ]
    },
    {
      "cell_type": "code",
      "metadata": {
        "id": "Lts9uzzO9V9z"
      },
      "source": [
        "# Compile the model\n",
        "model.compile(optimizer='rmsprop',\n",
        "              loss='categorical_crossentropy',\n",
        "              metrics=['accuracy'])"
      ],
      "execution_count": 23,
      "outputs": []
    },
    {
      "cell_type": "code",
      "metadata": {
        "id": "VMYN3KWd-nn7"
      },
      "source": [
        "# Set aside 1,000 samples of training data to use as a validation set\n",
        "xVal = xTrain[:1000]\n",
        "xPartialTrain = xTrain[1000:]\n",
        "yVal = oneHotTrainLabels[:1000]\n",
        "yPartialTrain = oneHotTrainLabels[1000:]"
      ],
      "execution_count": 24,
      "outputs": []
    },
    {
      "cell_type": "code",
      "metadata": {
        "colab": {
          "base_uri": "https://localhost:8080/"
        },
        "id": "QJNEFYrX--_Y",
        "outputId": "04d156b6-a649-48fb-e7cd-7b555b36f542"
      },
      "source": [
        "# Train model 20 epochs\n",
        "history = model.fit(xPartialTrain,\n",
        "                    yPartialTrain,\n",
        "                    epochs=20,\n",
        "                    batch_size=512,\n",
        "                    validation_data=(xVal, yVal))"
      ],
      "execution_count": 25,
      "outputs": [
        {
          "output_type": "stream",
          "text": [
            "Epoch 1/20\n",
            "16/16 [==============================] - 1s 24ms/step - loss: 3.1291 - accuracy: 0.4299 - val_loss: 1.7361 - val_accuracy: 0.6440\n",
            "Epoch 2/20\n",
            "16/16 [==============================] - 0s 16ms/step - loss: 1.4861 - accuracy: 0.7008 - val_loss: 1.3036 - val_accuracy: 0.7260\n",
            "Epoch 3/20\n",
            "16/16 [==============================] - 0s 16ms/step - loss: 1.0654 - accuracy: 0.7747 - val_loss: 1.1279 - val_accuracy: 0.7530\n",
            "Epoch 4/20\n",
            "16/16 [==============================] - 0s 15ms/step - loss: 0.8204 - accuracy: 0.8292 - val_loss: 1.0141 - val_accuracy: 0.7860\n",
            "Epoch 5/20\n",
            "16/16 [==============================] - 0s 16ms/step - loss: 0.6443 - accuracy: 0.8686 - val_loss: 0.9532 - val_accuracy: 0.8010\n",
            "Epoch 6/20\n",
            "16/16 [==============================] - 0s 16ms/step - loss: 0.5062 - accuracy: 0.8928 - val_loss: 0.9403 - val_accuracy: 0.8060\n",
            "Epoch 7/20\n",
            "16/16 [==============================] - 0s 15ms/step - loss: 0.4059 - accuracy: 0.9213 - val_loss: 0.9047 - val_accuracy: 0.8090\n",
            "Epoch 8/20\n",
            "16/16 [==============================] - 0s 16ms/step - loss: 0.3263 - accuracy: 0.9358 - val_loss: 0.9055 - val_accuracy: 0.8120\n",
            "Epoch 9/20\n",
            "16/16 [==============================] - 0s 16ms/step - loss: 0.2668 - accuracy: 0.9404 - val_loss: 0.8950 - val_accuracy: 0.8120\n",
            "Epoch 10/20\n",
            "16/16 [==============================] - 0s 15ms/step - loss: 0.2208 - accuracy: 0.9506 - val_loss: 0.9557 - val_accuracy: 0.8060\n",
            "Epoch 11/20\n",
            "16/16 [==============================] - 0s 16ms/step - loss: 0.1986 - accuracy: 0.9528 - val_loss: 0.9138 - val_accuracy: 0.8180\n",
            "Epoch 12/20\n",
            "16/16 [==============================] - 0s 16ms/step - loss: 0.1718 - accuracy: 0.9553 - val_loss: 0.9541 - val_accuracy: 0.8080\n",
            "Epoch 13/20\n",
            "16/16 [==============================] - 0s 15ms/step - loss: 0.1627 - accuracy: 0.9552 - val_loss: 0.9704 - val_accuracy: 0.8080\n",
            "Epoch 14/20\n",
            "16/16 [==============================] - 0s 15ms/step - loss: 0.1450 - accuracy: 0.9560 - val_loss: 0.9715 - val_accuracy: 0.8120\n",
            "Epoch 15/20\n",
            "16/16 [==============================] - 0s 15ms/step - loss: 0.1299 - accuracy: 0.9571 - val_loss: 0.9790 - val_accuracy: 0.8160\n",
            "Epoch 16/20\n",
            "16/16 [==============================] - 0s 15ms/step - loss: 0.1091 - accuracy: 0.9653 - val_loss: 1.0777 - val_accuracy: 0.7900\n",
            "Epoch 17/20\n",
            "16/16 [==============================] - 0s 16ms/step - loss: 0.1117 - accuracy: 0.9628 - val_loss: 1.0117 - val_accuracy: 0.8150\n",
            "Epoch 18/20\n",
            "16/16 [==============================] - 0s 15ms/step - loss: 0.1109 - accuracy: 0.9594 - val_loss: 1.0821 - val_accuracy: 0.8040\n",
            "Epoch 19/20\n",
            "16/16 [==============================] - 0s 15ms/step - loss: 0.1072 - accuracy: 0.9626 - val_loss: 1.0339 - val_accuracy: 0.8100\n",
            "Epoch 20/20\n",
            "16/16 [==============================] - 0s 14ms/step - loss: 0.1064 - accuracy: 0.9641 - val_loss: 1.1165 - val_accuracy: 0.7970\n"
          ],
          "name": "stdout"
        }
      ]
    },
    {
      "cell_type": "code",
      "metadata": {
        "colab": {
          "base_uri": "https://localhost:8080/",
          "height": 295
        },
        "id": "wCJlUuRg_ecI",
        "outputId": "e0afbf28-6774-47a4-81a5-2874b1d5531a"
      },
      "source": [
        "import matplotlib.pyplot as plt\n",
        "\n",
        "# Plot training and validation loss\n",
        "lossValues = history.history['loss']\n",
        "val_lossValues = history.history['val_loss']\n",
        "epochs = range(1, len(loss) + 1)\n",
        "plt.plot(epochs, lossValues, 'bo', label='Training loss')\n",
        "plt.plot(epochs, val_lossValues, 'b', label='Validation loss')\n",
        "plt.title('Training and validation loss')\n",
        "plt.xlabel('Epochs')\n",
        "plt.ylabel('Loss')\n",
        "plt.legend()\n",
        "plt.show()"
      ],
      "execution_count": 26,
      "outputs": [
        {
          "output_type": "display_data",
          "data": {
            "image/png": "[encoded data removed]",
            "text/plain": [
              "<Figure size 432x288 with 1 Axes>"
            ]
          },
          "metadata": {
            "tags": [],
            "needs_background": "light"
          }
        }
      ]
    },
    {
      "cell_type": "code",
      "metadata": {
        "colab": {
          "base_uri": "https://localhost:8080/",
          "height": 295
        },
        "id": "fiS1G2qtAEI_",
        "outputId": "0f0c7f30-6efb-403b-88f7-4746eb36fc4e"
      },
      "source": [
        "# Plot training and validation accuracy\n",
        "plt.clf()\n",
        "accValues = history.history['accuracy']\n",
        "val_accValues = history.history['val_accuracy']\n",
        "plt.plot(epochs, accValues, 'bo', label='Training accuracy')\n",
        "plt.plot(epochs, val_accValues, 'b', label='Validation accuracy')\n",
        "plt.title('Training and validation accuracy')\n",
        "plt.xlabel('Epochs')\n",
        "plt.ylabel('Accuracy')\n",
        "plt.legend()\n",
        "plt.show()"
      ],
      "execution_count": 27,
      "outputs": [
        {
          "output_type": "display_data",
          "data": {
            "image/png": "[encoded data removed]",
            "text/plain": [
              "<Figure size 432x288 with 1 Axes>"
            ]
          },
          "metadata": {
            "tags": [],
            "needs_background": "light"
          }
        }
      ]
    },
    {
      "cell_type": "code",
      "metadata": {
        "colab": {
          "base_uri": "https://localhost:8080/"
        },
        "id": "Dijx9PwrAQqv",
        "outputId": "d70de158-1d19-49d8-944a-76567c84e2cf"
      },
      "source": [
        "# Overfitting after 9 epochs (val_loss = 0.8950)\n",
        "#  new model, evaluate it on the test set.\n",
        "model = keras.Sequential([\n",
        "    layers.Dense(64, activation='relu'),\n",
        "    layers.Dense(64, activation='relu'),\n",
        "    layers.Dense(46, activation='softmax')\n",
        "])\n",
        "model.compile(optimizer='rmsprop',\n",
        "              loss='categorical_crossentropy',\n",
        "              metrics=['accuracy'])\n",
        "model.fit(xPartialTrain,\n",
        "          yPartialTrain,\n",
        "          epochs=9,\n",
        "          batch_size=512,\n",
        "          validation_data=(xVal, yVal))\n",
        "results = model.evaluate(xTest, oneHotTestLabels)"
      ],
      "execution_count": 28,
      "outputs": [
        {
          "output_type": "stream",
          "text": [
            "Epoch 1/9\n",
            "16/16 [==============================] - 1s 25ms/step - loss: 3.1181 - accuracy: 0.3924 - val_loss: 1.7122 - val_accuracy: 0.6170\n",
            "Epoch 2/9\n",
            "16/16 [==============================] - 0s 16ms/step - loss: 1.5192 - accuracy: 0.6858 - val_loss: 1.2861 - val_accuracy: 0.7160\n",
            "Epoch 3/9\n",
            "16/16 [==============================] - 0s 15ms/step - loss: 1.0768 - accuracy: 0.7710 - val_loss: 1.1291 - val_accuracy: 0.7560\n",
            "Epoch 4/9\n",
            "16/16 [==============================] - 0s 15ms/step - loss: 0.8417 - accuracy: 0.8160 - val_loss: 1.0416 - val_accuracy: 0.7750\n",
            "Epoch 5/9\n",
            "16/16 [==============================] - 0s 15ms/step - loss: 0.6534 - accuracy: 0.8638 - val_loss: 1.0228 - val_accuracy: 0.7830\n",
            "Epoch 6/9\n",
            "16/16 [==============================] - 0s 16ms/step - loss: 0.5322 - accuracy: 0.8916 - val_loss: 0.9501 - val_accuracy: 0.7960\n",
            "Epoch 7/9\n",
            "16/16 [==============================] - 0s 15ms/step - loss: 0.4187 - accuracy: 0.9145 - val_loss: 0.9334 - val_accuracy: 0.7960\n",
            "Epoch 8/9\n",
            "16/16 [==============================] - 0s 15ms/step - loss: 0.3330 - accuracy: 0.9294 - val_loss: 0.9192 - val_accuracy: 0.8070\n",
            "Epoch 9/9\n",
            "16/16 [==============================] - 0s 15ms/step - loss: 0.2870 - accuracy: 0.9385 - val_loss: 0.9291 - val_accuracy: 0.8110\n",
            "71/71 [==============================] - 0s 3ms/step - loss: 0.9970 - accuracy: 0.7854\n"
          ],
          "name": "stdout"
        }
      ]
    },
    {
      "cell_type": "code",
      "metadata": {
        "colab": {
          "base_uri": "https://localhost:8080/"
        },
        "id": "quasUCUQBPjB",
        "outputId": "7998fd61-0405-4b43-d6b3-1132c2e9059c"
      },
      "source": [
        "print(\"Achieved accuracy of %d precent.\" % (round(results[1]*100)))"
      ],
      "execution_count": 30,
      "outputs": [
        {
          "output_type": "stream",
          "text": [
            "Achieved accuracy of 79 precent.\n"
          ],
          "name": "stdout"
        }
      ]
    },
    {
      "cell_type": "markdown",
      "metadata": {
        "id": "ZoMVCl9qc7UG"
      },
      "source": [
        "If we were working with binary classification, the accuracy of a random classifier would be 50%. What would it be for a multiclass classifier like this one with 46 classes?"
      ]
    },
    {
      "cell_type": "code",
      "metadata": {
        "colab": {
          "base_uri": "https://localhost:8080/"
        },
        "id": "yk7ZhDcSCrYV",
        "outputId": "d044d4c0-4ddd-4f09-dfa6-914fae3a4ad8"
      },
      "source": [
        "# Accuracy of a random baseline?\n",
        "import copy\n",
        "testLabelsCopy = copy.copy(testLabels)\n",
        "np.random.shuffle(testLabelsCopy)\n",
        "hitsArray = np.array(testLabels) == np.array(testLabelsCopy)\n",
        "accuracy = float(np.sum(hitsArray) / len(testLabels))\n",
        "print(\"Random accuracy of this 46 class multiclass classifier is roughly %.2f percent.\" % (accuracy*100))"
      ],
      "execution_count": 36,
      "outputs": [
        {
          "output_type": "stream",
          "text": [
            "Random accuracy of this 46 class multiclass classifier is roughly 18.88 percent.\n"
          ],
          "name": "stdout"
        }
      ]
    },
    {
      "cell_type": "code",
      "metadata": {
        "id": "Cp7HLuq4C6_X"
      },
      "source": [
        "# Generate topic predictions for all of the test data:\n",
        "predictions = model.predict(xTest)"
      ],
      "execution_count": 38,
      "outputs": []
    },
    {
      "cell_type": "code",
      "metadata": {
        "colab": {
          "base_uri": "https://localhost:8080/"
        },
        "id": "Nrfjt97rDirZ",
        "outputId": "9b6b39bd-d671-4d36-a49c-60c918b22e06"
      },
      "source": [
        "# See that prediction vector is 46D\n",
        "predictions[0].shape"
      ],
      "execution_count": 39,
      "outputs": [
        {
          "output_type": "execute_result",
          "data": {
            "text/plain": [
              "(46,)"
            ]
          },
          "metadata": {
            "tags": []
          },
          "execution_count": 39
        }
      ]
    },
    {
      "cell_type": "code",
      "metadata": {
        "colab": {
          "base_uri": "https://localhost:8080/"
        },
        "id": "vpvUN-2hDk_i",
        "outputId": "ce786599-4683-4d65-b219-652d9d8071d5"
      },
      "source": [
        "print(f\"Sum of 46 elements in predictions vector is: {np.sum(predictions[0])}\")"
      ],
      "execution_count": 41,
      "outputs": [
        {
          "output_type": "stream",
          "text": [
            "Sum of 46 elements in predictions vector is: 0.9999998211860657\n"
          ],
          "name": "stdout"
        }
      ]
    },
    {
      "cell_type": "code",
      "metadata": {
        "colab": {
          "base_uri": "https://localhost:8080/"
        },
        "id": "sPD0fYPsD61A",
        "outputId": "495e1ea4-1c2a-4956-8313-efb9128c37d5"
      },
      "source": [
        "print(f\"For predictions[0], the class (topic) number predicted is {np.argmax(predictions[0])}.\")"
      ],
      "execution_count": 43,
      "outputs": [
        {
          "output_type": "stream",
          "text": [
            "For predictions[0], the class (topic) number predicted is 3.\n"
          ],
          "name": "stdout"
        }
      ]
    },
    {
      "cell_type": "markdown",
      "metadata": {
        "id": "Xv6buDG9fI10"
      },
      "source": [
        "## Does bottleneck occur when we use smaller than 64-unit `Dense` layer?"
      ]
    },
    {
      "cell_type": "code",
      "metadata": {
        "colab": {
          "base_uri": "https://localhost:8080/"
        },
        "id": "DgFGMsKyELNs",
        "outputId": "8d444f5b-3207-4156-9ade-ad0385cb9b48"
      },
      "source": [
        "model = keras.Sequential([\n",
        "    layers.Dense(64, activation='relu'),\n",
        "    layers.Dense(4, activation='relu'), # Bottleneck?\n",
        "    layers.Dense(46, activation='softmax')\n",
        "])\n",
        "model.compile(optimizer='rmsprop',\n",
        "loss='categorical_crossentropy',\n",
        "metrics=['accuracy'])\n",
        "model.fit(xPartialTrain,\n",
        "          yPartialTrain,\n",
        "          epochs=20,\n",
        "          batch_size=512,\n",
        "          validation_data=(xVal, yVal))"
      ],
      "execution_count": 49,
      "outputs": [
        {
          "output_type": "stream",
          "text": [
            "Epoch 1/20\n",
            "16/16 [==============================] - 1s 25ms/step - loss: 3.5028 - accuracy: 0.3107 - val_loss: 2.8289 - val_accuracy: 0.3570\n",
            "Epoch 2/20\n",
            "16/16 [==============================] - 0s 15ms/step - loss: 2.6877 - accuracy: 0.3586 - val_loss: 2.4527 - val_accuracy: 0.3540\n",
            "Epoch 3/20\n",
            "16/16 [==============================] - 0s 17ms/step - loss: 2.3265 - accuracy: 0.3599 - val_loss: 2.2450 - val_accuracy: 0.3690\n",
            "Epoch 4/20\n",
            "16/16 [==============================] - 0s 16ms/step - loss: 2.1140 - accuracy: 0.3749 - val_loss: 2.0758 - val_accuracy: 0.3810\n",
            "Epoch 5/20\n",
            "16/16 [==============================] - 0s 15ms/step - loss: 1.8947 - accuracy: 0.3956 - val_loss: 1.8977 - val_accuracy: 0.3990\n",
            "Epoch 6/20\n",
            "16/16 [==============================] - 0s 16ms/step - loss: 1.7033 - accuracy: 0.4894 - val_loss: 1.7473 - val_accuracy: 0.5710\n",
            "Epoch 7/20\n",
            "16/16 [==============================] - 0s 16ms/step - loss: 1.5252 - accuracy: 0.6361 - val_loss: 1.6065 - val_accuracy: 0.6280\n",
            "Epoch 8/20\n",
            "16/16 [==============================] - 0s 15ms/step - loss: 1.4048 - accuracy: 0.6598 - val_loss: 1.5036 - val_accuracy: 0.6410\n",
            "Epoch 9/20\n",
            "16/16 [==============================] - 0s 15ms/step - loss: 1.2458 - accuracy: 0.6805 - val_loss: 1.4435 - val_accuracy: 0.6300\n",
            "Epoch 10/20\n",
            "16/16 [==============================] - 0s 16ms/step - loss: 1.1639 - accuracy: 0.6766 - val_loss: 1.3854 - val_accuracy: 0.6400\n",
            "Epoch 11/20\n",
            "16/16 [==============================] - 0s 16ms/step - loss: 1.0811 - accuracy: 0.6874 - val_loss: 1.3648 - val_accuracy: 0.6340\n",
            "Epoch 12/20\n",
            "16/16 [==============================] - 0s 15ms/step - loss: 1.0153 - accuracy: 0.6973 - val_loss: 1.3175 - val_accuracy: 0.6630\n",
            "Epoch 13/20\n",
            "16/16 [==============================] - 0s 16ms/step - loss: 0.9409 - accuracy: 0.7314 - val_loss: 1.2874 - val_accuracy: 0.6760\n",
            "Epoch 14/20\n",
            "16/16 [==============================] - 0s 16ms/step - loss: 0.8808 - accuracy: 0.7464 - val_loss: 1.2720 - val_accuracy: 0.6900\n",
            "Epoch 15/20\n",
            "16/16 [==============================] - 0s 16ms/step - loss: 0.8370 - accuracy: 0.7515 - val_loss: 1.2626 - val_accuracy: 0.7120\n",
            "Epoch 16/20\n",
            "16/16 [==============================] - 0s 16ms/step - loss: 0.7784 - accuracy: 0.7963 - val_loss: 1.2867 - val_accuracy: 0.7120\n",
            "Epoch 17/20\n",
            "16/16 [==============================] - 0s 15ms/step - loss: 0.7529 - accuracy: 0.8063 - val_loss: 1.2682 - val_accuracy: 0.7230\n",
            "Epoch 18/20\n",
            "16/16 [==============================] - 0s 16ms/step - loss: 0.7258 - accuracy: 0.8168 - val_loss: 1.2760 - val_accuracy: 0.7210\n",
            "Epoch 19/20\n",
            "16/16 [==============================] - 0s 16ms/step - loss: 0.6820 - accuracy: 0.8247 - val_loss: 1.2908 - val_accuracy: 0.7210\n",
            "Epoch 20/20\n",
            "16/16 [==============================] - 0s 16ms/step - loss: 0.6602 - accuracy: 0.8261 - val_loss: 1.3184 - val_accuracy: 0.7200\n"
          ],
          "name": "stdout"
        },
        {
          "output_type": "execute_result",
          "data": {
            "text/plain": [
              "<tensorflow.python.keras.callbacks.History at 0x7f71633fa090>"
            ]
          },
          "metadata": {
            "tags": []
          },
          "execution_count": 49
        }
      ]
    },
    {
      "cell_type": "markdown",
      "metadata": {
        "id": "ZWO0jzSkfslT"
      },
      "source": [
        "Validation accuracy is at best roughly 72%, significantly less than our 81% accuracy with 64-unit `Dense` layers."
      ]
    },
    {
      "cell_type": "code",
      "metadata": {
        "id": "BkACQEnwgExa"
      },
      "source": [
        ""
      ],
      "execution_count": null,
      "outputs": []
    },
    {
      "cell_type": "markdown",
      "metadata": {
        "id": "3wXyNwiplUT4"
      },
      "source": [
        "## Try different number of units and intermediate layers\n",
        "There aren't any enormous discrepencies while changing these parameters, but a maximum difference of 3% between worst and best choice of number of units and number of intermediate layers is worth sorting out. "
      ]
    },
    {
      "cell_type": "code",
      "metadata": {
        "colab": {
          "base_uri": "https://localhost:8080/"
        },
        "id": "wMROUwP2ldVb",
        "outputId": "ca1b3e38-7f17-487e-ba1f-5193185b97a0"
      },
      "source": [
        "model = keras.Sequential([\n",
        "    layers.Dense(128, activation='relu'),\n",
        "    layers.Dense(128, activation='relu'),\n",
        "    layers.Dense(46, activation='softmax')\n",
        "])\n",
        "model.compile(optimizer='rmsprop',\n",
        "loss='categorical_crossentropy',\n",
        "metrics=['accuracy'])\n",
        "model.fit(xPartialTrain,\n",
        "          yPartialTrain,\n",
        "          epochs=20,\n",
        "          batch_size=512,\n",
        "          validation_data=(xVal, yVal))"
      ],
      "execution_count": 50,
      "outputs": [
        {
          "output_type": "stream",
          "text": [
            "Epoch 1/20\n",
            "16/16 [==============================] - 1s 26ms/step - loss: 2.6950 - accuracy: 0.4488 - val_loss: 1.3943 - val_accuracy: 0.6920\n",
            "Epoch 2/20\n",
            "16/16 [==============================] - 0s 16ms/step - loss: 1.1783 - accuracy: 0.7412 - val_loss: 1.0990 - val_accuracy: 0.7610\n",
            "Epoch 3/20\n",
            "16/16 [==============================] - 0s 16ms/step - loss: 0.8084 - accuracy: 0.8306 - val_loss: 1.0256 - val_accuracy: 0.7650\n",
            "Epoch 4/20\n",
            "16/16 [==============================] - 0s 16ms/step - loss: 0.5874 - accuracy: 0.8766 - val_loss: 0.9052 - val_accuracy: 0.8120\n",
            "Epoch 5/20\n",
            "16/16 [==============================] - 0s 16ms/step - loss: 0.4122 - accuracy: 0.9170 - val_loss: 0.9398 - val_accuracy: 0.8030\n",
            "Epoch 6/20\n",
            "16/16 [==============================] - 0s 17ms/step - loss: 0.3207 - accuracy: 0.9322 - val_loss: 0.8777 - val_accuracy: 0.8310\n",
            "Epoch 7/20\n",
            "16/16 [==============================] - 0s 16ms/step - loss: 0.2436 - accuracy: 0.9448 - val_loss: 0.8847 - val_accuracy: 0.8190\n",
            "Epoch 8/20\n",
            "16/16 [==============================] - 0s 16ms/step - loss: 0.1940 - accuracy: 0.9508 - val_loss: 0.9125 - val_accuracy: 0.8250\n",
            "Epoch 9/20\n",
            "16/16 [==============================] - 0s 16ms/step - loss: 0.1645 - accuracy: 0.9575 - val_loss: 0.9698 - val_accuracy: 0.8090\n",
            "Epoch 10/20\n",
            "16/16 [==============================] - 0s 16ms/step - loss: 0.1427 - accuracy: 0.9599 - val_loss: 1.0051 - val_accuracy: 0.8020\n",
            "Epoch 11/20\n",
            "16/16 [==============================] - 0s 15ms/step - loss: 0.1233 - accuracy: 0.9623 - val_loss: 0.9304 - val_accuracy: 0.8190\n",
            "Epoch 12/20\n",
            "16/16 [==============================] - 0s 16ms/step - loss: 0.1219 - accuracy: 0.9587 - val_loss: 1.0466 - val_accuracy: 0.8050\n",
            "Epoch 13/20\n",
            "16/16 [==============================] - 0s 16ms/step - loss: 0.1194 - accuracy: 0.9609 - val_loss: 1.1119 - val_accuracy: 0.7910\n",
            "Epoch 14/20\n",
            "16/16 [==============================] - 0s 15ms/step - loss: 0.1171 - accuracy: 0.9613 - val_loss: 1.0945 - val_accuracy: 0.7920\n",
            "Epoch 15/20\n",
            "16/16 [==============================] - 0s 15ms/step - loss: 0.1046 - accuracy: 0.9637 - val_loss: 1.0678 - val_accuracy: 0.8080\n",
            "Epoch 16/20\n",
            "16/16 [==============================] - 0s 16ms/step - loss: 0.0962 - accuracy: 0.9630 - val_loss: 1.1010 - val_accuracy: 0.8030\n",
            "Epoch 17/20\n",
            "16/16 [==============================] - 0s 16ms/step - loss: 0.0947 - accuracy: 0.9663 - val_loss: 1.1512 - val_accuracy: 0.7970\n",
            "Epoch 18/20\n",
            "16/16 [==============================] - 0s 16ms/step - loss: 0.1029 - accuracy: 0.9600 - val_loss: 1.2145 - val_accuracy: 0.7800\n",
            "Epoch 19/20\n",
            "16/16 [==============================] - 0s 16ms/step - loss: 0.0923 - accuracy: 0.9625 - val_loss: 1.0626 - val_accuracy: 0.8120\n",
            "Epoch 20/20\n",
            "16/16 [==============================] - 0s 16ms/step - loss: 0.0944 - accuracy: 0.9630 - val_loss: 1.0863 - val_accuracy: 0.8130\n"
          ],
          "name": "stdout"
        },
        {
          "output_type": "execute_result",
          "data": {
            "text/plain": [
              "<tensorflow.python.keras.callbacks.History at 0x7f716410d790>"
            ]
          },
          "metadata": {
            "tags": []
          },
          "execution_count": 50
        }
      ]
    },
    {
      "cell_type": "markdown",
      "metadata": {
        "id": "kFilceLLlygb"
      },
      "source": [
        "128-unit `Dense` layers as 2 intermediate layers peaks around 83% validation accuracy."
      ]
    },
    {
      "cell_type": "code",
      "metadata": {
        "colab": {
          "base_uri": "https://localhost:8080/"
        },
        "id": "r52UZ2GTlnm4",
        "outputId": "381f688d-2113-48b7-cdc3-f6bbdcb8bc8e"
      },
      "source": [
        "model = keras.Sequential([\n",
        "    layers.Dense(32, activation='relu'),\n",
        "    layers.Dense(32, activation='relu'),\n",
        "    layers.Dense(46, activation='softmax')\n",
        "])\n",
        "model.compile(optimizer='rmsprop',\n",
        "loss='categorical_crossentropy',\n",
        "metrics=['accuracy'])\n",
        "model.fit(xPartialTrain,\n",
        "          yPartialTrain,\n",
        "          epochs=20,\n",
        "          batch_size=512,\n",
        "          validation_data=(xVal, yVal))"
      ],
      "execution_count": 51,
      "outputs": [
        {
          "output_type": "stream",
          "text": [
            "Epoch 1/20\n",
            "16/16 [==============================] - 1s 25ms/step - loss: 3.4465 - accuracy: 0.2804 - val_loss: 2.4374 - val_accuracy: 0.5600\n",
            "Epoch 2/20\n",
            "16/16 [==============================] - 0s 15ms/step - loss: 2.1862 - accuracy: 0.5853 - val_loss: 1.7328 - val_accuracy: 0.6710\n",
            "Epoch 3/20\n",
            "16/16 [==============================] - 0s 15ms/step - loss: 1.5371 - accuracy: 0.7091 - val_loss: 1.4327 - val_accuracy: 0.6990\n",
            "Epoch 4/20\n",
            "16/16 [==============================] - 0s 15ms/step - loss: 1.2558 - accuracy: 0.7470 - val_loss: 1.2724 - val_accuracy: 0.7340\n",
            "Epoch 5/20\n",
            "16/16 [==============================] - 0s 16ms/step - loss: 1.0489 - accuracy: 0.7851 - val_loss: 1.1762 - val_accuracy: 0.7580\n",
            "Epoch 6/20\n",
            "16/16 [==============================] - 0s 16ms/step - loss: 0.8450 - accuracy: 0.8257 - val_loss: 1.1185 - val_accuracy: 0.7660\n",
            "Epoch 7/20\n",
            "16/16 [==============================] - 0s 16ms/step - loss: 0.7512 - accuracy: 0.8426 - val_loss: 1.0657 - val_accuracy: 0.7780\n",
            "Epoch 8/20\n",
            "16/16 [==============================] - 0s 15ms/step - loss: 0.6665 - accuracy: 0.8551 - val_loss: 1.0247 - val_accuracy: 0.7910\n",
            "Epoch 9/20\n",
            "16/16 [==============================] - 0s 15ms/step - loss: 0.5704 - accuracy: 0.8756 - val_loss: 1.0077 - val_accuracy: 0.7880\n",
            "Epoch 10/20\n",
            "16/16 [==============================] - 0s 15ms/step - loss: 0.4996 - accuracy: 0.8901 - val_loss: 0.9830 - val_accuracy: 0.7970\n",
            "Epoch 11/20\n",
            "16/16 [==============================] - 0s 15ms/step - loss: 0.4289 - accuracy: 0.9077 - val_loss: 0.9748 - val_accuracy: 0.7990\n",
            "Epoch 12/20\n",
            "16/16 [==============================] - 0s 15ms/step - loss: 0.3780 - accuracy: 0.9193 - val_loss: 0.9613 - val_accuracy: 0.8010\n",
            "Epoch 13/20\n",
            "16/16 [==============================] - 0s 16ms/step - loss: 0.3162 - accuracy: 0.9361 - val_loss: 0.9893 - val_accuracy: 0.8050\n",
            "Epoch 14/20\n",
            "16/16 [==============================] - 0s 15ms/step - loss: 0.2955 - accuracy: 0.9380 - val_loss: 0.9702 - val_accuracy: 0.8090\n",
            "Epoch 15/20\n",
            "16/16 [==============================] - 0s 15ms/step - loss: 0.2446 - accuracy: 0.9445 - val_loss: 0.9690 - val_accuracy: 0.8100\n",
            "Epoch 16/20\n",
            "16/16 [==============================] - 0s 15ms/step - loss: 0.2300 - accuracy: 0.9492 - val_loss: 1.0009 - val_accuracy: 0.8040\n",
            "Epoch 17/20\n",
            "16/16 [==============================] - 0s 16ms/step - loss: 0.2121 - accuracy: 0.9480 - val_loss: 0.9782 - val_accuracy: 0.8130\n",
            "Epoch 18/20\n",
            "16/16 [==============================] - 0s 14ms/step - loss: 0.1887 - accuracy: 0.9531 - val_loss: 0.9968 - val_accuracy: 0.8110\n",
            "Epoch 19/20\n",
            "16/16 [==============================] - 0s 15ms/step - loss: 0.1679 - accuracy: 0.9552 - val_loss: 1.0242 - val_accuracy: 0.8020\n",
            "Epoch 20/20\n",
            "16/16 [==============================] - 0s 14ms/step - loss: 0.1500 - accuracy: 0.9583 - val_loss: 1.0132 - val_accuracy: 0.8090\n"
          ],
          "name": "stdout"
        },
        {
          "output_type": "execute_result",
          "data": {
            "text/plain": [
              "<tensorflow.python.keras.callbacks.History at 0x7f716317b890>"
            ]
          },
          "metadata": {
            "tags": []
          },
          "execution_count": 51
        }
      ]
    },
    {
      "cell_type": "markdown",
      "metadata": {
        "id": "XmrOqBzVmJyd"
      },
      "source": [
        "32-unit `Dense` layers as 2 intermediate layers peaks around 80% validation accuracy."
      ]
    },
    {
      "cell_type": "code",
      "metadata": {
        "colab": {
          "base_uri": "https://localhost:8080/"
        },
        "id": "MfNkITvSmDlE",
        "outputId": "55c9c556-e2aa-4726-a2c8-7a89248486af"
      },
      "source": [
        "model = keras.Sequential([\n",
        "    layers.Dense(32, activation='relu'),\n",
        "    layers.Dense(46, activation='softmax')\n",
        "])\n",
        "model.compile(optimizer='rmsprop',\n",
        "loss='categorical_crossentropy',\n",
        "metrics=['accuracy'])\n",
        "model.fit(xPartialTrain,\n",
        "          yPartialTrain,\n",
        "          epochs=20,\n",
        "          batch_size=512,\n",
        "          validation_data=(xVal, yVal))"
      ],
      "execution_count": 52,
      "outputs": [
        {
          "output_type": "stream",
          "text": [
            "Epoch 1/20\n",
            "16/16 [==============================] - 1s 24ms/step - loss: 3.2749 - accuracy: 0.4043 - val_loss: 2.3031 - val_accuracy: 0.6370\n",
            "Epoch 2/20\n",
            "16/16 [==============================] - 0s 15ms/step - loss: 2.0405 - accuracy: 0.6641 - val_loss: 1.7458 - val_accuracy: 0.6700\n",
            "Epoch 3/20\n",
            "16/16 [==============================] - 0s 15ms/step - loss: 1.5194 - accuracy: 0.7102 - val_loss: 1.4379 - val_accuracy: 0.7050\n",
            "Epoch 4/20\n",
            "16/16 [==============================] - 0s 15ms/step - loss: 1.2096 - accuracy: 0.7582 - val_loss: 1.2602 - val_accuracy: 0.7270\n",
            "Epoch 5/20\n",
            "16/16 [==============================] - 0s 15ms/step - loss: 1.0065 - accuracy: 0.7939 - val_loss: 1.1490 - val_accuracy: 0.7570\n",
            "Epoch 6/20\n",
            "16/16 [==============================] - 0s 15ms/step - loss: 0.8671 - accuracy: 0.8197 - val_loss: 1.0676 - val_accuracy: 0.7720\n",
            "Epoch 7/20\n",
            "16/16 [==============================] - 0s 15ms/step - loss: 0.7358 - accuracy: 0.8511 - val_loss: 1.0090 - val_accuracy: 0.7890\n",
            "Epoch 8/20\n",
            "16/16 [==============================] - 0s 15ms/step - loss: 0.6374 - accuracy: 0.8710 - val_loss: 0.9673 - val_accuracy: 0.8080\n",
            "Epoch 9/20\n",
            "16/16 [==============================] - 0s 16ms/step - loss: 0.5610 - accuracy: 0.8889 - val_loss: 0.9337 - val_accuracy: 0.8100\n",
            "Epoch 10/20\n",
            "16/16 [==============================] - 0s 15ms/step - loss: 0.5123 - accuracy: 0.9013 - val_loss: 0.9032 - val_accuracy: 0.8160\n",
            "Epoch 11/20\n",
            "16/16 [==============================] - 0s 15ms/step - loss: 0.4321 - accuracy: 0.9157 - val_loss: 0.8786 - val_accuracy: 0.8170\n",
            "Epoch 12/20\n",
            "16/16 [==============================] - 0s 15ms/step - loss: 0.3785 - accuracy: 0.9258 - val_loss: 0.8672 - val_accuracy: 0.8150\n",
            "Epoch 13/20\n",
            "16/16 [==============================] - 0s 15ms/step - loss: 0.3607 - accuracy: 0.9277 - val_loss: 0.8547 - val_accuracy: 0.8220\n",
            "Epoch 14/20\n",
            "16/16 [==============================] - 0s 15ms/step - loss: 0.3111 - accuracy: 0.9391 - val_loss: 0.8448 - val_accuracy: 0.8250\n",
            "Epoch 15/20\n",
            "16/16 [==============================] - 0s 15ms/step - loss: 0.2729 - accuracy: 0.9437 - val_loss: 0.8493 - val_accuracy: 0.8250\n",
            "Epoch 16/20\n",
            "16/16 [==============================] - 0s 14ms/step - loss: 0.2400 - accuracy: 0.9513 - val_loss: 0.8364 - val_accuracy: 0.8280\n",
            "Epoch 17/20\n",
            "16/16 [==============================] - 0s 15ms/step - loss: 0.2193 - accuracy: 0.9536 - val_loss: 0.8558 - val_accuracy: 0.8220\n",
            "Epoch 18/20\n",
            "16/16 [==============================] - 0s 15ms/step - loss: 0.2038 - accuracy: 0.9548 - val_loss: 0.8463 - val_accuracy: 0.8300\n",
            "Epoch 19/20\n",
            "16/16 [==============================] - 0s 15ms/step - loss: 0.1855 - accuracy: 0.9559 - val_loss: 0.8623 - val_accuracy: 0.8190\n",
            "Epoch 20/20\n",
            "16/16 [==============================] - 0s 14ms/step - loss: 0.1670 - accuracy: 0.9596 - val_loss: 0.8668 - val_accuracy: 0.8260\n"
          ],
          "name": "stdout"
        },
        {
          "output_type": "execute_result",
          "data": {
            "text/plain": [
              "<tensorflow.python.keras.callbacks.History at 0x7f7163bd7590>"
            ]
          },
          "metadata": {
            "tags": []
          },
          "execution_count": 52
        }
      ]
    },
    {
      "cell_type": "markdown",
      "metadata": {
        "id": "YXvUsLpamlKv"
      },
      "source": [
        "32-unit `Dense` layer as 1 intermediate layer peaks above 82% validation accuracy."
      ]
    },
    {
      "cell_type": "code",
      "metadata": {
        "colab": {
          "base_uri": "https://localhost:8080/"
        },
        "id": "gwlKJvxMmay_",
        "outputId": "12e9e485-864f-4c41-84b8-29856b416a00"
      },
      "source": [
        "model = keras.Sequential([\n",
        "    layers.Dense(128, activation='relu'),\n",
        "    layers.Dense(46, activation='softmax')\n",
        "])\n",
        "model.compile(optimizer='rmsprop',\n",
        "loss='categorical_crossentropy',\n",
        "metrics=['accuracy'])\n",
        "model.fit(xPartialTrain,\n",
        "          yPartialTrain,\n",
        "          epochs=20,\n",
        "          batch_size=512,\n",
        "          validation_data=(xVal, yVal))"
      ],
      "execution_count": 53,
      "outputs": [
        {
          "output_type": "stream",
          "text": [
            "Epoch 1/20\n",
            "16/16 [==============================] - 1s 24ms/step - loss: 2.8031 - accuracy: 0.4673 - val_loss: 1.4797 - val_accuracy: 0.6940\n",
            "Epoch 2/20\n",
            "16/16 [==============================] - 0s 16ms/step - loss: 1.2174 - accuracy: 0.7585 - val_loss: 1.1123 - val_accuracy: 0.7720\n",
            "Epoch 3/20\n",
            "16/16 [==============================] - 0s 16ms/step - loss: 0.8404 - accuracy: 0.8314 - val_loss: 0.9632 - val_accuracy: 0.8020\n",
            "Epoch 4/20\n",
            "16/16 [==============================] - 0s 15ms/step - loss: 0.6093 - accuracy: 0.8821 - val_loss: 0.8901 - val_accuracy: 0.8090\n",
            "Epoch 5/20\n",
            "16/16 [==============================] - 0s 16ms/step - loss: 0.4586 - accuracy: 0.9105 - val_loss: 0.8447 - val_accuracy: 0.8230\n",
            "Epoch 6/20\n",
            "16/16 [==============================] - 0s 15ms/step - loss: 0.3461 - accuracy: 0.9303 - val_loss: 0.8154 - val_accuracy: 0.8270\n",
            "Epoch 7/20\n",
            "16/16 [==============================] - 0s 15ms/step - loss: 0.2737 - accuracy: 0.9429 - val_loss: 0.8094 - val_accuracy: 0.8320\n",
            "Epoch 8/20\n",
            "16/16 [==============================] - 0s 15ms/step - loss: 0.2306 - accuracy: 0.9477 - val_loss: 0.8047 - val_accuracy: 0.8330\n",
            "Epoch 9/20\n",
            "16/16 [==============================] - 0s 15ms/step - loss: 0.1902 - accuracy: 0.9508 - val_loss: 0.8363 - val_accuracy: 0.8210\n",
            "Epoch 10/20\n",
            "16/16 [==============================] - 0s 16ms/step - loss: 0.1699 - accuracy: 0.9558 - val_loss: 0.8435 - val_accuracy: 0.8260\n",
            "Epoch 11/20\n",
            "16/16 [==============================] - 0s 15ms/step - loss: 0.1399 - accuracy: 0.9601 - val_loss: 0.8485 - val_accuracy: 0.8290\n",
            "Epoch 12/20\n",
            "16/16 [==============================] - 0s 15ms/step - loss: 0.1265 - accuracy: 0.9612 - val_loss: 0.8903 - val_accuracy: 0.8170\n",
            "Epoch 13/20\n",
            "16/16 [==============================] - 0s 15ms/step - loss: 0.1170 - accuracy: 0.9594 - val_loss: 0.8946 - val_accuracy: 0.8150\n",
            "Epoch 14/20\n",
            "16/16 [==============================] - 0s 16ms/step - loss: 0.1077 - accuracy: 0.9634 - val_loss: 0.9254 - val_accuracy: 0.8160\n",
            "Epoch 15/20\n",
            "16/16 [==============================] - 0s 16ms/step - loss: 0.1058 - accuracy: 0.9611 - val_loss: 0.9790 - val_accuracy: 0.8040\n",
            "Epoch 16/20\n",
            "16/16 [==============================] - 0s 15ms/step - loss: 0.1050 - accuracy: 0.9590 - val_loss: 0.9454 - val_accuracy: 0.8150\n",
            "Epoch 17/20\n",
            "16/16 [==============================] - 0s 16ms/step - loss: 0.1031 - accuracy: 0.9568 - val_loss: 0.9652 - val_accuracy: 0.8080\n",
            "Epoch 18/20\n",
            "16/16 [==============================] - 0s 15ms/step - loss: 0.0979 - accuracy: 0.9613 - val_loss: 1.0015 - val_accuracy: 0.8040\n",
            "Epoch 19/20\n",
            "16/16 [==============================] - 0s 15ms/step - loss: 0.1048 - accuracy: 0.9568 - val_loss: 0.9952 - val_accuracy: 0.8030\n",
            "Epoch 20/20\n",
            "16/16 [==============================] - 0s 15ms/step - loss: 0.0919 - accuracy: 0.9637 - val_loss: 1.0317 - val_accuracy: 0.7990\n"
          ],
          "name": "stdout"
        },
        {
          "output_type": "execute_result",
          "data": {
            "text/plain": [
              "<tensorflow.python.keras.callbacks.History at 0x7f71658ae650>"
            ]
          },
          "metadata": {
            "tags": []
          },
          "execution_count": 53
        }
      ]
    },
    {
      "cell_type": "markdown",
      "metadata": {
        "id": "U5mwglyinF1C"
      },
      "source": [
        "128-unit Dense layer as 1 intermediate layer peaks around 82% validation accuracy.\n"
      ]
    },
    {
      "cell_type": "code",
      "metadata": {
        "colab": {
          "base_uri": "https://localhost:8080/"
        },
        "id": "Rq6YoO96m8dN",
        "outputId": "ad544bee-2215-466d-ea0e-24122a40477c"
      },
      "source": [
        "model = keras.Sequential([\n",
        "    layers.Dense(128, activation='relu'),\n",
        "    layers.Dense(128, activation='relu'),\n",
        "    layers.Dense(128, activation='relu'),\n",
        "    layers.Dense(46, activation='softmax')\n",
        "])\n",
        "model.compile(optimizer='rmsprop',\n",
        "loss='categorical_crossentropy',\n",
        "metrics=['accuracy'])\n",
        "model.fit(xPartialTrain,\n",
        "          yPartialTrain,\n",
        "          epochs=20,\n",
        "          batch_size=512,\n",
        "          validation_data=(xVal, yVal))"
      ],
      "execution_count": 54,
      "outputs": [
        {
          "output_type": "stream",
          "text": [
            "Epoch 1/20\n",
            "16/16 [==============================] - 1s 27ms/step - loss: 2.8449 - accuracy: 0.3811 - val_loss: 1.4644 - val_accuracy: 0.6840\n",
            "Epoch 2/20\n",
            "16/16 [==============================] - 0s 16ms/step - loss: 1.2439 - accuracy: 0.7215 - val_loss: 1.2612 - val_accuracy: 0.7230\n",
            "Epoch 3/20\n",
            "16/16 [==============================] - 0s 16ms/step - loss: 0.9036 - accuracy: 0.7990 - val_loss: 1.0734 - val_accuracy: 0.7730\n",
            "Epoch 4/20\n",
            "16/16 [==============================] - 0s 17ms/step - loss: 0.6318 - accuracy: 0.8603 - val_loss: 1.2052 - val_accuracy: 0.7170\n",
            "Epoch 5/20\n",
            "16/16 [==============================] - 0s 17ms/step - loss: 0.5084 - accuracy: 0.8835 - val_loss: 0.9003 - val_accuracy: 0.8200\n",
            "Epoch 6/20\n",
            "16/16 [==============================] - 0s 16ms/step - loss: 0.3431 - accuracy: 0.9258 - val_loss: 0.9401 - val_accuracy: 0.8100\n",
            "Epoch 7/20\n",
            "16/16 [==============================] - 0s 17ms/step - loss: 0.2585 - accuracy: 0.9438 - val_loss: 0.9806 - val_accuracy: 0.8090\n",
            "Epoch 8/20\n",
            "16/16 [==============================] - 0s 17ms/step - loss: 0.2154 - accuracy: 0.9451 - val_loss: 1.0943 - val_accuracy: 0.7960\n",
            "Epoch 9/20\n",
            "16/16 [==============================] - 0s 17ms/step - loss: 0.1842 - accuracy: 0.9530 - val_loss: 1.0252 - val_accuracy: 0.8060\n",
            "Epoch 10/20\n",
            "16/16 [==============================] - 0s 17ms/step - loss: 0.1576 - accuracy: 0.9564 - val_loss: 1.0566 - val_accuracy: 0.8060\n",
            "Epoch 11/20\n",
            "16/16 [==============================] - 0s 17ms/step - loss: 0.1415 - accuracy: 0.9588 - val_loss: 1.0571 - val_accuracy: 0.8050\n",
            "Epoch 12/20\n",
            "16/16 [==============================] - 0s 16ms/step - loss: 0.1344 - accuracy: 0.9607 - val_loss: 1.1756 - val_accuracy: 0.7930\n",
            "Epoch 13/20\n",
            "16/16 [==============================] - 0s 17ms/step - loss: 0.1156 - accuracy: 0.9626 - val_loss: 1.0733 - val_accuracy: 0.8010\n",
            "Epoch 14/20\n",
            "16/16 [==============================] - 0s 16ms/step - loss: 0.1102 - accuracy: 0.9606 - val_loss: 1.1139 - val_accuracy: 0.7830\n",
            "Epoch 15/20\n",
            "16/16 [==============================] - 0s 17ms/step - loss: 0.1073 - accuracy: 0.9624 - val_loss: 1.1408 - val_accuracy: 0.7890\n",
            "Epoch 16/20\n",
            "16/16 [==============================] - 0s 16ms/step - loss: 0.1093 - accuracy: 0.9598 - val_loss: 1.3779 - val_accuracy: 0.7640\n",
            "Epoch 17/20\n",
            "16/16 [==============================] - 0s 16ms/step - loss: 0.0960 - accuracy: 0.9654 - val_loss: 1.0937 - val_accuracy: 0.7960\n",
            "Epoch 18/20\n",
            "16/16 [==============================] - 0s 16ms/step - loss: 0.0980 - accuracy: 0.9609 - val_loss: 1.2021 - val_accuracy: 0.7910\n",
            "Epoch 19/20\n",
            "16/16 [==============================] - 0s 16ms/step - loss: 0.0891 - accuracy: 0.9622 - val_loss: 1.1915 - val_accuracy: 0.8060\n",
            "Epoch 20/20\n",
            "16/16 [==============================] - 0s 15ms/step - loss: 0.0892 - accuracy: 0.9634 - val_loss: 1.1791 - val_accuracy: 0.8030\n"
          ],
          "name": "stdout"
        },
        {
          "output_type": "execute_result",
          "data": {
            "text/plain": [
              "<tensorflow.python.keras.callbacks.History at 0x7f716397f610>"
            ]
          },
          "metadata": {
            "tags": []
          },
          "execution_count": 54
        }
      ]
    },
    {
      "cell_type": "markdown",
      "metadata": {
        "id": "gkJo6bHMod-h"
      },
      "source": [
        "128-unit Dense layer as 3 intermediate layers peaks around 82% validation accuracy."
      ]
    },
    {
      "cell_type": "code",
      "metadata": {
        "colab": {
          "base_uri": "https://localhost:8080/"
        },
        "id": "A8-U8L8qoSX7",
        "outputId": "1d7b5e91-05e8-41bf-c11e-91f2f5714f9e"
      },
      "source": [
        "model = keras.Sequential([\n",
        "    layers.Dense(32, activation='relu'),\n",
        "    layers.Dense(32, activation='relu'),\n",
        "    layers.Dense(32, activation='relu'),\n",
        "    layers.Dense(46, activation='softmax')\n",
        "])\n",
        "model.compile(optimizer='rmsprop',\n",
        "loss='categorical_crossentropy',\n",
        "metrics=['accuracy'])\n",
        "model.fit(xPartialTrain,\n",
        "          yPartialTrain,\n",
        "          epochs=20,\n",
        "          batch_size=512,\n",
        "          validation_data=(xVal, yVal))"
      ],
      "execution_count": 55,
      "outputs": [
        {
          "output_type": "stream",
          "text": [
            "Epoch 1/20\n",
            "16/16 [==============================] - 1s 25ms/step - loss: 3.6230 - accuracy: 0.1041 - val_loss: 2.6620 - val_accuracy: 0.5690\n",
            "Epoch 2/20\n",
            "16/16 [==============================] - 0s 16ms/step - loss: 2.3361 - accuracy: 0.5785 - val_loss: 1.7996 - val_accuracy: 0.5830\n",
            "Epoch 3/20\n",
            "16/16 [==============================] - 0s 15ms/step - loss: 1.6272 - accuracy: 0.6258 - val_loss: 1.4979 - val_accuracy: 0.6640\n",
            "Epoch 4/20\n",
            "16/16 [==============================] - 0s 16ms/step - loss: 1.3260 - accuracy: 0.7045 - val_loss: 1.3458 - val_accuracy: 0.6920\n",
            "Epoch 5/20\n",
            "16/16 [==============================] - 0s 16ms/step - loss: 1.1373 - accuracy: 0.7366 - val_loss: 1.2227 - val_accuracy: 0.7230\n",
            "Epoch 6/20\n",
            "16/16 [==============================] - 0s 16ms/step - loss: 0.9418 - accuracy: 0.7858 - val_loss: 1.1467 - val_accuracy: 0.7420\n",
            "Epoch 7/20\n",
            "16/16 [==============================] - 0s 15ms/step - loss: 0.8214 - accuracy: 0.8209 - val_loss: 1.0865 - val_accuracy: 0.7550\n",
            "Epoch 8/20\n",
            "16/16 [==============================] - 0s 15ms/step - loss: 0.7057 - accuracy: 0.8381 - val_loss: 1.0729 - val_accuracy: 0.7560\n",
            "Epoch 9/20\n",
            "16/16 [==============================] - 0s 16ms/step - loss: 0.6100 - accuracy: 0.8609 - val_loss: 1.0155 - val_accuracy: 0.7850\n",
            "Epoch 10/20\n",
            "16/16 [==============================] - 0s 15ms/step - loss: 0.5139 - accuracy: 0.8781 - val_loss: 1.0029 - val_accuracy: 0.7930\n",
            "Epoch 11/20\n",
            "16/16 [==============================] - 0s 15ms/step - loss: 0.4373 - accuracy: 0.9007 - val_loss: 1.0113 - val_accuracy: 0.7910\n",
            "Epoch 12/20\n",
            "16/16 [==============================] - 0s 16ms/step - loss: 0.3913 - accuracy: 0.9147 - val_loss: 0.9907 - val_accuracy: 0.7980\n",
            "Epoch 13/20\n",
            "16/16 [==============================] - 0s 15ms/step - loss: 0.3382 - accuracy: 0.9282 - val_loss: 0.9874 - val_accuracy: 0.7980\n",
            "Epoch 14/20\n",
            "16/16 [==============================] - 0s 16ms/step - loss: 0.2755 - accuracy: 0.9431 - val_loss: 1.0189 - val_accuracy: 0.7930\n",
            "Epoch 15/20\n",
            "16/16 [==============================] - 0s 15ms/step - loss: 0.2578 - accuracy: 0.9456 - val_loss: 1.0431 - val_accuracy: 0.7900\n",
            "Epoch 16/20\n",
            "16/16 [==============================] - 0s 16ms/step - loss: 0.2377 - accuracy: 0.9450 - val_loss: 1.0613 - val_accuracy: 0.7910\n",
            "Epoch 17/20\n",
            "16/16 [==============================] - 0s 16ms/step - loss: 0.2065 - accuracy: 0.9503 - val_loss: 1.0692 - val_accuracy: 0.7980\n",
            "Epoch 18/20\n",
            "16/16 [==============================] - 0s 16ms/step - loss: 0.1804 - accuracy: 0.9554 - val_loss: 1.0712 - val_accuracy: 0.8030\n",
            "Epoch 19/20\n",
            "16/16 [==============================] - 0s 16ms/step - loss: 0.1637 - accuracy: 0.9571 - val_loss: 1.1127 - val_accuracy: 0.8020\n",
            "Epoch 20/20\n",
            "16/16 [==============================] - 0s 16ms/step - loss: 0.1519 - accuracy: 0.9563 - val_loss: 1.1071 - val_accuracy: 0.8000\n"
          ],
          "name": "stdout"
        },
        {
          "output_type": "execute_result",
          "data": {
            "text/plain": [
              "<tensorflow.python.keras.callbacks.History at 0x7f7164e427d0>"
            ]
          },
          "metadata": {
            "tags": []
          },
          "execution_count": 55
        }
      ]
    },
    {
      "cell_type": "markdown",
      "metadata": {
        "id": "aHD0tKnSorYl"
      },
      "source": [
        "32-unit Dense layer as 3 intermediate layers peaks around 80% validation accuracy."
      ]
    },
    {
      "cell_type": "code",
      "metadata": {
        "id": "PDMGTS8Vokai"
      },
      "source": [
        ""
      ],
      "execution_count": null,
      "outputs": []
    }
  ]
}