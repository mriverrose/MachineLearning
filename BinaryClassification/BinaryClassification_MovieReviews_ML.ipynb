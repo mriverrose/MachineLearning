{
  "nbformat": 4,
  "nbformat_minor": 0,
  "metadata": {
    "colab": {
      "name": "BinaryClassification_MovieReviews_ML.ipynb",
      "provenance": [],
      "collapsed_sections": []
    },
    "kernelspec": {
      "name": "python3",
      "display_name": "Python 3"
    },
    "accelerator": "GPU"
  },
  "cells": [
    {
      "cell_type": "markdown",
      "metadata": {
        "id": "NUOmF0970hrs"
      },
      "source": [
        "# Binary Classification: Movie Reviews\n",
        "Utilize the IMDB data set in Keras: 50,000 polarized reviews split in half, one set for training, the other for testing. The data is made up of 50% negative reviews and 50% positive reviews.\n",
        "\n",
        "The data is preprocessed: each review (a sequence of words) has beed translated into a sequence of integers such that each integer stands for a particular word in a dictionary.\n",
        "\n",
        "Code based on example by Francois Chollet in *Deep Learning with Python, Second Edition*."
      ]
    },
    {
      "cell_type": "code",
      "metadata": {
        "colab": {
          "base_uri": "https://localhost:8080/"
        },
        "id": "Q5iEv-PxwY4_",
        "outputId": "920935f0-2efe-4b72-9a07-e42ba778de06"
      },
      "source": [
        "# Load the dataset (about 80MB).\n",
        "# Retain only 10,000 of most frequently occuring words. \n",
        "from tensorflow.keras.datasets import imdb\n",
        "(trainData, trainLabels), (testData, testLabels) = imdb.load_data(num_words=10_000)"
      ],
      "execution_count": 1,
      "outputs": [
        {
          "output_type": "stream",
          "text": [
            "Downloading data from https://storage.googleapis.com/tensorflow/tf-keras-datasets/imdb.npz\n",
            "17465344/17464789 [==============================] - 0s 0us/step\n"
          ],
          "name": "stdout"
        },
        {
          "output_type": "stream",
          "text": [
            "<string>:6: VisibleDeprecationWarning: Creating an ndarray from ragged nested sequences (which is a list-or-tuple of lists-or-tuples-or ndarrays with different lengths or shapes) is deprecated. If you meant to do this, you must specify 'dtype=object' when creating the ndarray\n",
            "/usr/local/lib/python3.7/dist-packages/tensorflow/python/keras/datasets/imdb.py:159: VisibleDeprecationWarning: Creating an ndarray from ragged nested sequences (which is a list-or-tuple of lists-or-tuples-or ndarrays with different lengths or shapes) is deprecated. If you meant to do this, you must specify 'dtype=object' when creating the ndarray\n",
            "  x_train, y_train = np.array(xs[:idx]), np.array(labels[:idx])\n",
            "/usr/local/lib/python3.7/dist-packages/tensorflow/python/keras/datasets/imdb.py:160: VisibleDeprecationWarning: Creating an ndarray from ragged nested sequences (which is a list-or-tuple of lists-or-tuples-or ndarrays with different lengths or shapes) is deprecated. If you meant to do this, you must specify 'dtype=object' when creating the ndarray\n",
            "  x_test, y_test = np.array(xs[idx:]), np.array(labels[idx:])\n"
          ],
          "name": "stderr"
        }
      ]
    },
    {
      "cell_type": "markdown",
      "metadata": {
        "id": "XGBZ5F8X2PrC"
      },
      "source": [
        "`trainData` and `testData` are lists of reviews: each review is a list of word indices. \n",
        "\n",
        "`trainLabels` and `testLabels` are lists of 0s and 1s such that 0 implies *negative* and 1 implies *positive*."
      ]
    },
    {
      "cell_type": "code",
      "metadata": {
        "colab": {
          "base_uri": "https://localhost:8080/"
        },
        "id": "7lmwBjnU2pQi",
        "outputId": "1ec8ad51-e5d4-4073-e79d-e21f1192ab23"
      },
      "source": [
        "# See that word index does not exceed 10,000:\n",
        "max([max(sequence) for sequence in trainData])"
      ],
      "execution_count": 2,
      "outputs": [
        {
          "output_type": "execute_result",
          "data": {
            "text/plain": [
              "9999"
            ]
          },
          "metadata": {
            "tags": []
          },
          "execution_count": 2
        }
      ]
    },
    {
      "cell_type": "markdown",
      "metadata": {
        "id": "BJIEinNV3e1m"
      },
      "source": [
        "See what one review (e.g., `trainData[9]`) looks like decoded."
      ]
    },
    {
      "cell_type": "code",
      "metadata": {
        "colab": {
          "base_uri": "https://localhost:8080/",
          "height": 139
        },
        "id": "Q_rnjoA53qir",
        "outputId": "bac2f328-96b5-4a2a-87d1-8276e1560eee"
      },
      "source": [
        "wordIndex = imdb.get_word_index() # Dict mapping words to integer index.\n",
        "reverseWordIndex = dict(\n",
        "    # Map integer indices to words.\n",
        "    [(value, key) for (key, value) in wordIndex.items()]\n",
        ")\n",
        "decodedReview = \" \".join(\n",
        "    # Indices offset by 3 since 0, 1, and 2 are \n",
        "    #  \"padding\", \"start of sequence\", and \"unknown\", respectively.\n",
        "    [reverseWordIndex.get(i-3, \"?\") for i in trainData[9]]\n",
        ")\n",
        "\n",
        "# Show decoded review\n",
        "decodedReview"
      ],
      "execution_count": 11,
      "outputs": [
        {
          "output_type": "execute_result",
          "data": {
            "application/vnd.google.colaboratory.intrinsic+json": {
              "type": "string"
            },
            "text/plain": [
              "\"? this movie has many problem associated with it that makes it come off like a low budget class project from someone in film school i have to give it credit on its ? though many times throughout the movie i found myself laughing hysterically it was so bad at times that it was comical which made it a fun watch br br if you're looking for a low grade slasher movie with a twist of psychological horror and a dash of campy ? then pop a bowl of popcorn invite some friends over and have some fun br br i agree with other comments that the sound is very bad dialog is next to impossible to follow much of the time and the soundtrack is kind of just there\""
            ]
          },
          "metadata": {
            "tags": []
          },
          "execution_count": 11
        }
      ]
    },
    {
      "cell_type": "markdown",
      "metadata": {
        "id": "ae1Xii775AuN"
      },
      "source": [
        "### Prepare the data\n",
        "Neural network won't accept lists of integers (reviews). The lengths of the lists vary and the network expects adjoining data. Need to turn lists into tensors. \n",
        "\n",
        "We use one-hot encoding on the lists to get vectors with values of 0s and 1s. Thus, transforming the sequence `[1, 5, 3]` into a 10,000 dimensional vector will produce a vector that is all 0s except for indices 1, 5, and 3. "
      ]
    },
    {
      "cell_type": "code",
      "metadata": {
        "id": "XjNk2a8mwsNB"
      },
      "source": [
        "import numpy as np\n",
        "def vectorize_sequences(sequences, dimension=10_000):\n",
        "    results = np.zeros((len(sequences), dimension))\n",
        "    for i, sequence in enumerate(sequences):\n",
        "        results[i, sequence] = 1. # Set specific indices of results[i] to 1.\n",
        "    return results\n",
        "# Vectorize training data.\n",
        "xTrain = vectorize_sequences(trainData) \n",
        "xTest = vectorize_sequences(testData)"
      ],
      "execution_count": 4,
      "outputs": []
    },
    {
      "cell_type": "code",
      "metadata": {
        "id": "uG1rwbefwzVd"
      },
      "source": [
        "# Also vectorize labels:\n",
        "yTrain = np.asarray(trainLabels).astype('float32')\n",
        "yTest = np.asarray(testLabels).astype('float32')"
      ],
      "execution_count": 5,
      "outputs": []
    },
    {
      "cell_type": "code",
      "metadata": {
        "colab": {
          "base_uri": "https://localhost:8080/"
        },
        "id": "y8wzplqo7A9v",
        "outputId": "21eb1ba8-0fb0-4e37-9aa4-2a01e18c17b0"
      },
      "source": [
        "# See training data is one-hot encoded.\n",
        "xTrain[9]"
      ],
      "execution_count": 16,
      "outputs": [
        {
          "output_type": "execute_result",
          "data": {
            "text/plain": [
              "array([0., 1., 1., ..., 0., 0., 0.])"
            ]
          },
          "metadata": {
            "tags": []
          },
          "execution_count": 16
        }
      ]
    },
    {
      "cell_type": "markdown",
      "metadata": {
        "id": "GHnLwysd7XRk"
      },
      "source": [
        "## Feed data into neural network\n",
        "Simple setup: input is vectors, labels are binary scalars. A good model for binary classification problems is a plain stack of densesly-connected (`Dense`) layers with `relu` activations.\n",
        "\n",
        "`relu` (rectified linear unit) is a function for zeroing out negative values, whereas a `sigmoid` squishes values into the $[0, 1]$ interval. \n",
        "\n",
        "Furthermore, `relu` introduces *non-linearity* into our model so we can get beyond the model used in our LinearClassification problem which only used affine (linear) transformations. Using non-linearity, we extend the *hypothesis space* of a layer which allows us to benefit from multiple layers or representations, since adding more layers to linear layers would still be a linear operation."
      ]
    },
    {
      "cell_type": "code",
      "metadata": {
        "id": "o9I4eucPw2F9"
      },
      "source": [
        "# Define model:\n",
        "from tensorflow import keras\n",
        "from tensorflow.keras import layers\n",
        "\n",
        "model = keras.Sequential([\n",
        "    layers.Dense(16, activation='relu'),\n",
        "    layers.Dense(16, activation='relu'),\n",
        "    layers.Dense(1, activation='sigmoid') # Output is a probability.\n",
        "])"
      ],
      "execution_count": 17,
      "outputs": []
    },
    {
      "cell_type": "markdown",
      "metadata": {
        "id": "87DMnqMQ-ENO"
      },
      "source": [
        "Each `Dense` layer with `relu` activation implements chain of tensor operations:\n",
        "\n",
        "    output = relu(dot(W, input) + b)\n",
        "\n",
        "\n",
        "Need to choose loss function and optimizer. A binary classification model is a probability in the end (single-unit layer with `sigmoid` activation), so we use `binary_crossentropy` loss, often used for models that output probabilities. \n",
        "\n",
        "Optimizer is `rmsprop`, a good default choice."
      ]
    },
    {
      "cell_type": "code",
      "metadata": {
        "id": "aOCVSzvyw382"
      },
      "source": [
        "# Compile the model.\n",
        "model.compile(optimizer='rmsprop',\n",
        "              loss='binary_crossentropy',\n",
        "              metrics=['accuracy'])"
      ],
      "execution_count": 18,
      "outputs": []
    },
    {
      "cell_type": "code",
      "metadata": {
        "id": "fHbZLoUUw71c"
      },
      "source": [
        "# Create validation set by setting aside 10,000 samples from the original \n",
        "#  training data.\n",
        "xVal = xTrain[:10000]\n",
        "xPartialTrain = xTrain[10000:]\n",
        "yVal = yTrain[:10000]\n",
        "yPartialTrain = yTrain[10000:]"
      ],
      "execution_count": 19,
      "outputs": []
    },
    {
      "cell_type": "code",
      "metadata": {
        "colab": {
          "base_uri": "https://localhost:8080/"
        },
        "id": "2ZVL-1kPw9hg",
        "outputId": "6954ad09-5998-4ace-a198-535aa92c0912"
      },
      "source": [
        "model.compile(optimizer='rmsprop',\n",
        "              loss='binary_crossentropy',\n",
        "              metrics=['acc'])\n",
        "history = model.fit(xPartialTrain,\n",
        "                    yPartialTrain,\n",
        "                    epochs=20,\n",
        "                    batch_size=512, # Mini-batches of 512 samples\n",
        "                    validation_data=(xVal, yVal))"
      ],
      "execution_count": 20,
      "outputs": [
        {
          "output_type": "stream",
          "text": [
            "Epoch 1/20\n",
            "30/30 [==============================] - 4s 33ms/step - loss: 0.5890 - acc: 0.7089 - val_loss: 0.3907 - val_acc: 0.8580\n",
            "Epoch 2/20\n",
            "30/30 [==============================] - 1s 20ms/step - loss: 0.3211 - acc: 0.8972 - val_loss: 0.2994 - val_acc: 0.8880\n",
            "Epoch 3/20\n",
            "30/30 [==============================] - 1s 19ms/step - loss: 0.2236 - acc: 0.9291 - val_loss: 0.2895 - val_acc: 0.8841\n",
            "Epoch 4/20\n",
            "30/30 [==============================] - 1s 20ms/step - loss: 0.1709 - acc: 0.9465 - val_loss: 0.2751 - val_acc: 0.8882\n",
            "Epoch 5/20\n",
            "30/30 [==============================] - 1s 20ms/step - loss: 0.1312 - acc: 0.9634 - val_loss: 0.2831 - val_acc: 0.8871\n",
            "Epoch 6/20\n",
            "30/30 [==============================] - 1s 20ms/step - loss: 0.1114 - acc: 0.9682 - val_loss: 0.3001 - val_acc: 0.8827\n",
            "Epoch 7/20\n",
            "30/30 [==============================] - 1s 20ms/step - loss: 0.0940 - acc: 0.9727 - val_loss: 0.3236 - val_acc: 0.8811\n",
            "Epoch 8/20\n",
            "30/30 [==============================] - 1s 20ms/step - loss: 0.0730 - acc: 0.9813 - val_loss: 0.3434 - val_acc: 0.8775\n",
            "Epoch 9/20\n",
            "30/30 [==============================] - 1s 20ms/step - loss: 0.0578 - acc: 0.9863 - val_loss: 0.3740 - val_acc: 0.8784\n",
            "Epoch 10/20\n",
            "30/30 [==============================] - 1s 20ms/step - loss: 0.0509 - acc: 0.9884 - val_loss: 0.3824 - val_acc: 0.8772\n",
            "Epoch 11/20\n",
            "30/30 [==============================] - 1s 20ms/step - loss: 0.0397 - acc: 0.9924 - val_loss: 0.4155 - val_acc: 0.8755\n",
            "Epoch 12/20\n",
            "30/30 [==============================] - 1s 20ms/step - loss: 0.0363 - acc: 0.9923 - val_loss: 0.4774 - val_acc: 0.8701\n",
            "Epoch 13/20\n",
            "30/30 [==============================] - 1s 20ms/step - loss: 0.0269 - acc: 0.9955 - val_loss: 0.4799 - val_acc: 0.8732\n",
            "Epoch 14/20\n",
            "30/30 [==============================] - 1s 20ms/step - loss: 0.0218 - acc: 0.9961 - val_loss: 0.5153 - val_acc: 0.8680\n",
            "Epoch 15/20\n",
            "30/30 [==============================] - 1s 20ms/step - loss: 0.0166 - acc: 0.9976 - val_loss: 0.5457 - val_acc: 0.8675\n",
            "Epoch 16/20\n",
            "30/30 [==============================] - 1s 20ms/step - loss: 0.0120 - acc: 0.9988 - val_loss: 0.5841 - val_acc: 0.8683\n",
            "Epoch 17/20\n",
            "30/30 [==============================] - 1s 20ms/step - loss: 0.0083 - acc: 0.9995 - val_loss: 0.6287 - val_acc: 0.8633\n",
            "Epoch 18/20\n",
            "30/30 [==============================] - 1s 20ms/step - loss: 0.0078 - acc: 0.9993 - val_loss: 0.6573 - val_acc: 0.8669\n",
            "Epoch 19/20\n",
            "30/30 [==============================] - 1s 20ms/step - loss: 0.0052 - acc: 0.9998 - val_loss: 0.7031 - val_acc: 0.8629\n",
            "Epoch 20/20\n",
            "30/30 [==============================] - 1s 19ms/step - loss: 0.0059 - acc: 0.9993 - val_loss: 0.7349 - val_acc: 0.8661\n"
          ],
          "name": "stdout"
        }
      ]
    },
    {
      "cell_type": "code",
      "metadata": {
        "colab": {
          "base_uri": "https://localhost:8080/"
        },
        "id": "ZO-7lbkfBA9u",
        "outputId": "61fb1bc2-f826-4168-874f-f4dbbc54daa6"
      },
      "source": [
        "# model.fit() returns History object, a dictionary with data\n",
        "#  on what happened during training\n",
        "historyDict = history.history\n",
        "historyDict.keys()"
      ],
      "execution_count": 21,
      "outputs": [
        {
          "output_type": "execute_result",
          "data": {
            "text/plain": [
              "dict_keys(['loss', 'acc', 'val_loss', 'val_acc'])"
            ]
          },
          "metadata": {
            "tags": []
          },
          "execution_count": 21
        }
      ]
    },
    {
      "cell_type": "code",
      "metadata": {
        "colab": {
          "base_uri": "https://localhost:8080/",
          "height": 295
        },
        "id": "sEEMMtbNxB42",
        "outputId": "3a300faf-7249-49d7-eefa-56c00bd87ff7"
      },
      "source": [
        "import matplotlib.pyplot as plt\n",
        "# Plot training and validation loss.\n",
        "lossValues = historyDict['loss']\n",
        "val_lossValues = historyDict['val_loss']\n",
        "epochs = range(1, len(lossValues)+1)\n",
        "plt.plot(epochs, lossValues, 'bo', label='Training loss') # blue dot\n",
        "plt.plot(epochs, val_lossValues, 'b', label=\"Validation loss\") # blue line\n",
        "plt.title('Training and validation loss')\n",
        "plt.xlabel('Epochs')\n",
        "plt.ylabel('Loss')\n",
        "plt.legend()\n",
        "plt.show()"
      ],
      "execution_count": 23,
      "outputs": [
        {
          "output_type": "display_data",
          "data": {
            "image/png": "[encoded data removed]",
            "text/plain": [
              "<Figure size 432x288 with 1 Axes>"
            ]
          },
          "metadata": {
            "tags": [],
            "needs_background": "light"
          }
        }
      ]
    },
    {
      "cell_type": "code",
      "metadata": {
        "colab": {
          "base_uri": "https://localhost:8080/",
          "height": 295
        },
        "id": "JK13horAxJnk",
        "outputId": "24817a23-8634-4987-9494-1a3473b87493"
      },
      "source": [
        "# Plot training and validation accuracy.\n",
        "plt.clf() # Clear figures\n",
        "acc = historyDict['acc']\n",
        "val_acc = historyDict['val_acc']\n",
        "plt.plot(epochs, acc, 'bo', label='Training acc')\n",
        "plt.plot(epochs, val_acc, 'b', label=\"Validation acc\")\n",
        "plt.title(\"Training and validation accuracy\")\n",
        "plt.xlabel(\"Epochs\")\n",
        "plt.ylabel(\"Accuracy\")\n",
        "plt.legend()\n",
        "plt.show()"
      ],
      "execution_count": 24,
      "outputs": [
        {
          "output_type": "display_data",
          "data": {
            "image/png": "[encoded data removed]",
            "text/plain": [
              "<Figure size 432x288 with 1 Axes>"
            ]
          },
          "metadata": {
            "tags": [],
            "needs_background": "light"
          }
        }
      ]
    },
    {
      "cell_type": "markdown",
      "metadata": {
        "id": "4U-7bUY7B8qF"
      },
      "source": [
        "Since `val_loss` and `val_acc` seem to peak around fourth epoch, we are *overfitting* in the fifth epoch and beyond. To correct this, we'll stop training after three epochs."
      ]
    },
    {
      "cell_type": "code",
      "metadata": {
        "colab": {
          "base_uri": "https://localhost:8080/"
        },
        "id": "9zo-8BSBxOlY",
        "outputId": "2f4253bb-18d7-4c0f-d8a0-f67a06450a87"
      },
      "source": [
        "# Train new model for four epochs.\n",
        "model = keras.Sequential([\n",
        "  layers.Dense(16, activation='relu'),\n",
        "  layers.Dense(16, activation='relu'),\n",
        "  layers.Dense(1, activation='sigmoid')\n",
        "])\n",
        "model.compile(optimizer='rmsprop',\n",
        "              loss='binary_crossentropy',\n",
        "              metrics=['accuracy'])\n",
        "model.fit(xTrain, yTrain, epochs=4, batch_size=512)\n",
        "results = model.evaluate(xTest, yTest)"
      ],
      "execution_count": 25,
      "outputs": [
        {
          "output_type": "stream",
          "text": [
            "Epoch 1/4\n",
            "49/49 [==============================] - 1s 12ms/step - loss: 0.6054 - accuracy: 0.6277\n",
            "Epoch 2/4\n",
            "49/49 [==============================] - 1s 12ms/step - loss: 0.3035 - accuracy: 0.9028\n",
            "Epoch 3/4\n",
            "49/49 [==============================] - 1s 13ms/step - loss: 0.2093 - accuracy: 0.9298\n",
            "Epoch 4/4\n",
            "49/49 [==============================] - 1s 12ms/step - loss: 0.1629 - accuracy: 0.9470\n",
            "782/782 [==============================] - 2s 3ms/step - loss: 0.3203 - accuracy: 0.8754\n"
          ],
          "name": "stdout"
        }
      ]
    },
    {
      "cell_type": "code",
      "metadata": {
        "colab": {
          "base_uri": "https://localhost:8080/"
        },
        "id": "dkyqaIlHxciX",
        "outputId": "3ab69579-1cea-43fc-f35f-baa6aad56a23"
      },
      "source": [
        "\n",
        "print(\"Achieved accuracy of %d precent with a loss of %.2f.\" % (round(results[1]*100), results[0]))"
      ],
      "execution_count": 49,
      "outputs": [
        {
          "output_type": "stream",
          "text": [
            "Achieved accuracy of 88 precent with a loss of 0.32.\n"
          ],
          "name": "stdout"
        }
      ]
    },
    {
      "cell_type": "code",
      "metadata": {
        "id": "2OvuzqRTz_ZS"
      },
      "source": [
        ""
      ],
      "execution_count": null,
      "outputs": []
    },
    {
      "cell_type": "code",
      "metadata": {
        "id": "aq2UbpQ30ygO"
      },
      "source": [
        ""
      ],
      "execution_count": null,
      "outputs": []
    }
  ]
}